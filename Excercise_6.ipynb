{
  "nbformat": 4,
  "nbformat_minor": 0,
  "metadata": {
    "colab": {
      "name": "Excercise_6.ipynb",
      "provenance": [],
      "authorship_tag": "ABX9TyPqFvbEIc6UGTqzl+NHwtii",
      "include_colab_link": true
    },
    "kernelspec": {
      "name": "python3",
      "display_name": "Python 3"
    },
    "language_info": {
      "name": "python"
    }
  },
  "cells": [
    {
      "cell_type": "markdown",
      "metadata": {
        "id": "view-in-github",
        "colab_type": "text"
      },
      "source": [
        "<a href=\"https://colab.research.google.com/github/kwbt-kzk/github-slideshow/blob/master/Excercise_6.ipynb\" target=\"_parent\"><img src=\"https://colab.research.google.com/assets/colab-badge.svg\" alt=\"Open In Colab\"/></a>"
      ]
    },
    {
      "cell_type": "markdown",
      "metadata": {
        "id": "8OGH22M-cfND"
      },
      "source": [
        "Excercise 6\n",
        "\n",
        "I submitted via colab as before.\n",
        "My link is also posted on the Course Power homework submission box, so please check there if it doesn't work.\n",
        "\n",
        "前回同様colab経由での提出とさせていただきます。\n",
        "Course Powerの宿題提出ボックスにもリンクを貼っておリますので動かない場合はお手数ですがそちらからご確認のほどよろしくお願いいたします。"
      ]
    },
    {
      "cell_type": "code",
      "metadata": {
        "id": "53EUziygbUx-"
      },
      "source": [
        "#Part 1\n",
        "import pandas as pd\n",
        "import numpy as np\n",
        "\n",
        "data = None\n",
        "data-pd.read_csv('data/1091402.txt',delim_whitespace=True,skiprows=[1],na_values=-9999)\n",
        "\n",
        "\n",
        "#Part 2\n",
        "tavg_nodata_count = None\n",
        "tavg_nodata_count=data[\"TAVG\"].isnull().sum()\n",
        "print('Number of no-data values in column \"TAVG\":',tavg_nodata_count)\n",
        "\n",
        "tmin_nodata_count = None\n",
        "tmin_nodata_count=data['TMIN'].isnull().sum()\n",
        "print('Number of no-data values in column \"TMIN\":', tmin_nodata_count)\n",
        "\n",
        "\n",
        "\n",
        "day_count = None\n",
        "dayy_count=len(data)\n",
        "print(\"Number of days:\", day_count)\n",
        "\n",
        "first_obs = None\n",
        "first_obs=data.at[0,'date']\n",
        "print('Date of the first observation:',first_obs)\n",
        "\n",
        "last_obs = None\n",
        "last_obs=data.at[(day_count-1),'date']\n",
        "print('Date of the last observation:', last_obs)\n",
        "\n",
        "avg_temp = None\n",
        "avg_temp=data['TAVG'].mean()\n",
        "avg=0\n",
        "count=0\n",
        "for row in range(len(data)):\n",
        "  if not(np.isnan(data.at[row,'TAVR']))\n",
        "  avg=avg+data.at[row,'TAVG']\n",
        "  count=count+1\n",
        "print('Average temperature (F) for the whole dataset:', round(avg_temp, 2))\n",
        "\n",
        "avg_temp_1969 = None\n",
        "avg_tempt=data[data['DATE']>=19690501]\n",
        "avg_tempt=avg_tempt['DATE']<=19690831]\n",
        "avg_temp_1969=avg_tempt['TMAX'].mean()\n",
        "print('Average temperature (F) for the Summer of 69:', round(avg_temp_1969, 2))\n"
      ],
      "execution_count": null,
      "outputs": []
    },
    {
      "cell_type": "code",
      "metadata": {
        "id": "5gBZNG3Ucb09"
      },
      "source": [
        "#Problem 2\n",
        "\n",
        "monthly_data = None\n",
        "day=data.at[0,'DATE']\n",
        "montht=data.at[0,'TAVG']\n",
        "monthly_datat=[]\n",
        "count=1\n",
        "for row in range(1,len(data)):\n",
        "  if data.at[row,'DATE']-day<=30:\n",
        "    if not(np.isnan(data.at[row,'TAVG'])):\n",
        "      montht=montht+data.at[row,'TAVG']\n",
        "      count+=1\n",
        "      day+=1\n",
        "  else:\n",
        "    if not count==0:\n",
        "      monthly_datat.append((montht/count-32)/1.8)\n",
        "    else:\n",
        "      monthly_datat.append(None)\n",
        "    if not (np.isnan(data.at[row,'TAVG'])):\n",
        "      montht=data.at[row,'TAVG'] \n",
        "      count=1\n",
        "    if not (np.isnan(data.at[len(data)-1,'TAVG'])):\n",
        "      montht=montht+data.at[len(data)-1,'TAVG']\n",
        "      count+=1\n",
        "    if not count==0:\n",
        "      monthly_datat.append((montht/count-32)/1.8)\n",
        "    else\n",
        "    monthly_data=pd.DataFrame({'temp_celsius':monthly_datat})\n",
        "\n",
        "print(len(monthly_data))\n",
        "\n",
        "print(monthly_data.columns.values)\n",
        "print(round(monthly_data['temp_celsius'].mean(),2))\n",
        "print(round(monthly_data['temp_celsius'].median(), 2))\n",
        "\n",
        "from Exercise_6_Problems_1_2ans \n",
        "import func1,func2,func3,func4,func5,func6,func7,func8,func9,func10,func11\n",
        "\n",
        "def test_func1():\n",
        "\tassert func1()==3308\n",
        "def test_func2():\n",
        "\tassert func2()==365\n",
        "def test_func3():\n",
        "\tassert func3()==23716\n",
        "def test_func4():\n",
        "\tassert func4()==19520101\n",
        "def test_func5():\n",
        "\tassert func5()==20171004\n",
        "def test_func6():\n",
        "\tassert func6()==41.32\n",
        "def test_func7():\n",
        "\tassert func7()==67.82\n",
        "def test_func8():\n",
        "\tassert func8()==790\n",
        "def test_func9():\n",
        "\tassert func9()==['temp_celsius']\n",
        "def test_func10():\n",
        "\tassert func10()==5.1\n",
        "def test_func11():\n",
        "\tassert func11()==4.73"
      ],
      "execution_count": null,
      "outputs": []
    }
  ]
}
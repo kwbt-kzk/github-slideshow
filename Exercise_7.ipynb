{
  "nbformat": 4,
  "nbformat_minor": 0,
  "metadata": {
    "colab": {
      "name": "Exercise_7.ipynb",
      "provenance": [],
      "authorship_tag": "ABX9TyMcUguVhofdxCVqRjj15l+W",
      "include_colab_link": true
    },
    "kernelspec": {
      "name": "python3",
      "display_name": "Python 3"
    },
    "language_info": {
      "name": "python"
    }
  },
  "cells": [
    {
      "cell_type": "markdown",
      "metadata": {
        "id": "view-in-github",
        "colab_type": "text"
      },
      "source": [
        "<a href=\"https://colab.research.google.com/github/kwbt-kzk/github-slideshow/blob/master/Exercise_7.ipynb\" target=\"_parent\"><img src=\"https://colab.research.google.com/assets/colab-badge.svg\" alt=\"Open In Colab\"/></a>"
      ]
    },
    {
      "cell_type": "code",
      "metadata": {
        "id": "mm1UaEuZnr32"
      },
      "source": [
        "#Problem 1\n",
        "\n",
        "#Part 1\n",
        "import numpy as np\n",
        "import pandas as np\n",
        "xy=np.random.rand(1000,2)\n",
        "data=pd.DataFrame(xy,columns=['x','y'])\n",
        "print(data.head())\n",
        "assert len(data)==1000,\"There should be 1000 rows of data\"\n",
        "\n",
        "#Part 2\n",
        "colors=np.random.rand(1000)\n",
        "print(colors[0:10])\n",
        "assert len(colors)==1000, \"There should be 1000 random numbers for colors\"\n",
        "\n",
        "# Part 3\n",
        "# Part 3.1\n",
        "ax=data.plot.scatter('x','y',s=50,c=colors,colormap='rainbow',edgecolor='black')\n",
        "# Part 3.2\n",
        "import matplotlib.pyplot as plt\n",
        "tittle='My random candy points'\n",
        "xlabel='X-label'\n",
        "ylabel='Y-label'\n",
        "# Part 3.3\n",
        "ax.set_title(title)\n",
        "ax.set_xlabel(xlabel)\n",
        "ax.set_ylabel(ylabel)\n",
        "plt.show()\n",
        "outputfp=\"my_first_polt.png\"\n",
        "plt.savefig(outputfp)\n",
        "print(\"Saved my first plot as:\",outputfp)\n",
        "import os\n",
        "assert os.path.exists(outputfp),\"Can't find the output image\""
      ],
      "execution_count": null,
      "outputs": []
    },
    {
      "cell_type": "code",
      "metadata": {
        "id": "KEcjCZ3I1WMu"
      },
      "source": [
        "#Problem2\n",
        "\n",
        "#Part 1\n",
        "import numpy as np\n",
        "import pandas as pd\n",
        "import matplotlib.pyplot as plt\n",
        "read=pd.read_csv('data/helsinki-vantaa.csv',parse_dates=['DATE'],index_col='DATE')\n",
        "print(data.head())\n",
        "print(en(data))\n",
        "\n",
        "# Part 2\n",
        "selection=data.loc[(data.index>='19880101')&(data.index<='20181231')]\n",
        "selection.head()\n",
        "print(\"Number of rows:\",len(selection))\n",
        "\n",
        "# Part 3\n",
        "# Part 3.1\n",
        "ax=selection.plot.line(figsize=(12,6),y='TEMP_C',title='Helsinki-Vantaa Airport',c='black',marker='o',markersize=3)\n",
        "ax.grid()\n",
        "ax.set_xlabel('Time')\n",
        "ax.set_ylabel('Temperature(Celsius')\n",
        "\n",
        "#Part 3.2\n",
        "plt.savefig(\"temp_line_plot.png\")\n",
        "outputfp=\"temp_line_plot.png\"\n",
        "import os\n",
        "os.path.exists(outputfp)\n"
      ],
      "execution_count": null,
      "outputs": []
    }
  ]
}
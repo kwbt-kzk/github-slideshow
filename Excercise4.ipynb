{
  "nbformat": 4,
  "nbformat_minor": 0,
  "metadata": {
    "colab": {
      "name": "Excercise4.ipynb",
      "provenance": [],
      "authorship_tag": "ABX9TyO8d/xQ9JBOiPfMn+PoyycW",
      "include_colab_link": true
    },
    "kernelspec": {
      "name": "python3",
      "display_name": "Python 3"
    },
    "language_info": {
      "name": "python"
    }
  },
  "cells": [
    {
      "cell_type": "markdown",
      "metadata": {
        "id": "view-in-github",
        "colab_type": "text"
      },
      "source": [
        "<a href=\"https://colab.research.google.com/github/kwbt-kzk/github-slideshow/blob/main/Excercise4.ipynb\" target=\"_parent\"><img src=\"https://colab.research.google.com/assets/colab-badge.svg\" alt=\"Open In Colab\"/></a>"
      ]
    },
    {
      "cell_type": "code",
      "metadata": {
        "id": "8TXNGjCeNJHI"
      },
      "source": [
        "#Problem1\n",
        "\n",
        "def fahr_to_celsius(temp_fahrenheit):\n",
        "    converted_temp=(temp_fahrenheit-32) *5/9\n",
        "    return converted_temp\n",
        "\n",
        "print(fahr_to_celsius(48))\n",
        "print(fahr_to_celsius(71))"
      ],
      "execution_count": null,
      "outputs": []
    },
    {
      "cell_type": "code",
      "metadata": {
        "id": "UNRT-rnAjx3H"
      },
      "source": [
        "#Problem2\n",
        "\n",
        "def temp_classifier(temp_celsius):\n",
        "  if(temp_celsius<-2):\n",
        "    return 0\n",
        "  elif((temp_celsius>=-2)and(temp_celsius<2)):\n",
        "    return 1\n",
        "  elif((temp_celsius>=2)and(temp_celsius<15)):\n",
        "    return 2\n",
        "  elif(temp_celsius>=15):\n",
        "    return 3\n",
        "\n",
        "print(temp_classifier(16.5))\n",
        "print(temp_classifier(2))"
      ],
      "execution_count": null,
      "outputs": []
    },
    {
      "cell_type": "code",
      "metadata": {
        "id": "gxltsBf6lgCi"
      },
      "source": [
        "#Problem3\n",
        "\n",
        "temp_data =  [19, 21, 21, 21, 23, 23, 23, 21, 19, 21, 19, 21, 23, 27, 27, 28, 30, 30, 32, 32, 32, 32, \n",
        "              34, 34, 34, 36, 36, 36, 36, 36, 36, 34, 34, 34, 34, 34, 34, 32, 30, 30, 30, 28, 28, 27,\n",
        "              27, 27, 23, 23, 21, 21, 21, 19, 19, 19, 18, 18, 21, 27, 28, 30, 32, 34, 36, 37, 37, 37, \n",
        "              39, 39, 39, 39, 39, 39, 41, 41, 41, 41, 41, 39, 39, 37, 37, 36, 36, 34, 34, 32, 30, 30,\n",
        "              28, 27, 27, 25, 23, 23, 21, 21, 19, 19, 19, 18, 18, 18, 21, 25, 27, 28, 34, 34, 41, 37, \n",
        "              37, 39, 39, 39, 39, 41, 41, 39, 39, 39, 39, 39, 41, 39, 39, 39, 37, 36, 34, 32, 28, 28,\n",
        "              27, 25, 25, 25, 23, 23, 23, 23, 21, 21, 21, 21, 19, 21, 19, 21, 21, 19, 21, 27, 28, 32,\n",
        "              36, 36, 37, 39, 39, 39, 39, 39, 41, 41, 41, 41, 41, 41, 41, 41, 41, 39, 37, 36, 36, 34,\n",
        "              32, 30, 28, 28, 27, 27, 25, 25, 23, 23, 23, 21, 21, 21, 19, 19, 19, 19, 19, 19, 21, 23,\n",
        "              23, 23, 25, 27, 30, 36, 37, 37, 39, 39, 41, 41, 41, 39, 39, 41, 43, 43, 43, 43, 43, 43,\n",
        "              43, 43, 43, 39, 37, 37, 37, 36, 36, 36, 36, 34, 32, 32, 32, 32, 30, 30, 28, 28, 28, 27,\n",
        "              27, 27, 27, 25, 27, 27, 27, 28, 28, 28, 30, 32, 32, 32, 34, 34, 36, 36, 36, 37, 37, 37,\n",
        "              37, 37, 37, 37, 37, 37, 36, 34, 30, 30, 27, 27, 25, 25, 23, 21, 21, 21, 21, 19, 19, 19,\n",
        "              19, 19, 18, 18, 18, 18, 18, 19, 23, 27, 30, 32, 32, 32, 32, 32, 32, 34, 34, 34, 34, 34,\n",
        "              36, 36, 36, 36, 36, 32, 32, 32, 32, 32, 32, 32, 32, 30, 30, 30, 30, 30, 30, 30, 30, 30,\n",
        "              30, 30, 30, 30, 28, 28]\n",
        "#part1\n",
        "from temp_functions import fahr_to_celsius\n",
        "from temp_functions import temp_classifier\n",
        "temp_classes=[]\n",
        "for temp in temp_deta:\n",
        "  temp_celsius=fahr_to_celsius(temp)\n",
        "  temp_class=temp_classifier(temp_celsius)\n",
        "  temp_classes.append(temp_class)\n",
        "\n",
        "#part2\n",
        "zeros=temp_classes.count(0)\n",
        "ones=temp_classes.count(1)\n",
        "twos=temp_classes.count(2)\n",
        "threes=temp_classes.count(3)"
      ],
      "execution_count": null,
      "outputs": []
    },
    {
      "cell_type": "code",
      "metadata": {
        "id": "88aVNQV7tFkc"
      },
      "source": [
        "#Problem4\n",
        "\n",
        "def fahr_to_celsius(temp_fahrenheit)\n",
        "  converted_temp=(temp_fahrenheit-32)/1.8\n",
        "  return converted_temp\n",
        "  def temp_classifier(temp_celsius):\n",
        "    if(temp_celsius<-2)\n",
        "      return 0\n",
        "    elif((temp_celsius>=-2)and(temp_celsius<2)):\n",
        "      return 1\n",
        "    elif((temp_celsius>=2)and(temp_celsius<15)):\n",
        "      return 2\n",
        "    elif(temp_celsius>=15):\n",
        "      return 3"
      ],
      "execution_count": null,
      "outputs": []
    }
  ]
}
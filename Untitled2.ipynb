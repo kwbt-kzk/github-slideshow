{
  "nbformat": 4,
  "nbformat_minor": 0,
  "metadata": {
    "colab": {
      "name": "Untitled2.ipynb",
      "provenance": [],
      "authorship_tag": "ABX9TyOVWD4I6XlXSjWT5WhWUjwI",
      "include_colab_link": true
    },
    "kernelspec": {
      "name": "python3",
      "display_name": "Python 3"
    },
    "language_info": {
      "name": "python"
    }
  },
  "cells": [
    {
      "cell_type": "markdown",
      "metadata": {
        "id": "view-in-github",
        "colab_type": "text"
      },
      "source": [
        "<a href=\"https://colab.research.google.com/github/kwbt-kzk/github-slideshow/blob/master/Untitled2.ipynb\" target=\"_parent\"><img src=\"https://colab.research.google.com/assets/colab-badge.svg\" alt=\"Open In Colab\"/></a>"
      ]
    },
    {
      "cell_type": "code",
      "metadata": {
        "id": "7bpx_PIXPFW-"
      },
      "source": [
        "# Problem 1\n",
        "\n",
        "import os\n",
        "import geopandas as gpd\n",
        "import matplotlib.pyplot as plt\n",
        "from shapely.geometry import Polygon\n",
        "longitudes = [29.99671173095703, 31.58196258544922, 27.738052368164062, 26.50013542175293, 26.652359008789062, 25.921663284301758, 22.90027618408203, 23.257217407226562,\n",
        "           23.335693359375, 22.87444305419922, 23.08465003967285, 22.565473556518555, 21.452774047851562, 21.66388702392578, 21.065969467163086, 21.67659568786621,\n",
        "           21.496871948242188, 22.339998245239258, 22.288192749023438, 24.539581298828125, 25.444232940673828, 25.303749084472656, 24.669166564941406, 24.689163208007812,\n",
        "           24.174999237060547, 23.68471908569336, 24.000761032104492, 23.57332992553711, 23.76513671875, 23.430830001831055, 23.6597900390625, 20.580928802490234, 21.320831298828125,\n",
        "           22.398330688476562, 23.97638702392578, 24.934917449951172, 25.7611083984375, 25.95930290222168, 26.476804733276367, 27.91069221496582, 29.1027774810791, 29.29846954345703,\n",
        "           28.4355525970459, 28.817358016967773, 28.459857940673828, 30.028610229492188, 29.075136184692383, 30.13492774963379, 29.818885803222656, 29.640830993652344, 30.57735824584961,\n",
        "           29.99671173095703]\n",
        "latitudes = [63.748023986816406, 62.90789794921875, 60.511383056640625, 60.44499588012695, 60.646385192871094, 60.243743896484375, 59.806800842285156, 59.91944122314453,\n",
        "           60.02395248413086, 60.14555358886719, 60.3452033996582, 60.211936950683594, 60.56249237060547, 61.54027557373047, 62.59798049926758, 63.02013397216797,\n",
        "           63.20353698730469, 63.27652359008789, 63.525691986083984, 64.79915618896484, 64.9533920288086, 65.51513671875, 65.65470886230469, 65.89610290527344, 65.79151916503906,\n",
        "           66.26332092285156, 66.80228424072266, 67.1570053100586, 67.4168701171875, 67.47978210449219, 67.94589233398438, 69.060302734375, 69.32611083984375, 68.71110534667969,\n",
        "           68.83248901367188, 68.580810546875, 68.98916625976562, 69.68568420410156, 69.9363784790039, 70.08860778808594, 69.70597076416016, 69.48533630371094, 68.90263366699219,\n",
        "           68.84700012207031, 68.53485107421875, 67.69471740722656, 66.90360260009766, 65.70887756347656, 65.6533203125, 64.92096710205078, 64.22373962402344, 63.748023986816406]\n",
        "\n",
        "\n",
        "coordpairs=None\n",
        "coordpairs=[]\n",
        "for poi in range(len(longitudes)):\n",
        "  coordpairs.append([longitudes[poi],latitudes[poi]])\n",
        "poly = None\n",
        "poly=Polygon(coordpairs)\n",
        "print(coordpairs[0])\n",
        "print(poly.geom_type)\n",
        "geo=gpd.GeoDataFrame()\n",
        "geo['geometry'] = None\n",
        "geo.at['geometry'] = poly\n",
        "print(geo.head())\n",
        "print(len(geo))\n",
        "\n",
        "geo.plot()\n",
        "fp = 'polygon.shp'\n",
        "geo.to_file(fp)\n",
        "assert os.path.isfile(fp), \"Output file does not exits.\"\n",
        "\n",
        "\n",
        "# Problem 2\n",
        "\n",
        "\n",
        "def func1():\n",
        "    return len(coordpairs)\n",
        "\n",
        "def func2():\n",
        "    return poly.geom_type\n",
        "\n",
        "def func3():\n",
        "    return geo\n",
        "\n",
        "def func4():\n",
        "    return geo\n"
      ],
      "execution_count": null,
      "outputs": []
    },
    {
      "cell_type": "code",
      "metadata": {
        "id": "6uSq-8sIQc8r"
      },
      "source": [
        "# Problem 2\n",
        "\n",
        "import pandas as pd\n",
        "import geopandas as gpd\n",
        "from shapely.geometry import Point\n",
        "\n",
        "data = None\n",
        "data = pd.read_csv('data/some_posts.csv')\n",
        "Points = lambda row:Point(row['lat'],row['lon'])\n",
        "data['geometry'] = data.apply(Points, axis=1)\n",
        "print(\"Number of rows:\", len(data))\n",
        "print(data['geometry'].head())\n",
        "\n",
        "import geopandas as gpd\n",
        "from pyproj import CRS\n",
        "geo=None\n",
        "geo = gpd.GeoDataFrame(data, geometry='geometry',crs=CRS.from_epsg(4326).to_wkt())\n",
        "print(\"Number of rows:\", len(geo))\n",
        "print(geo.head())\n",
        "\n",
        "fp = 'Kruger_posts.shp'\n",
        "geo.to_file(fp)\n",
        "\n",
        "import os\n",
        "assert os.path.isfile(fp), \"output shapefile does not exist\"\n",
        "\n",
        "geo.plot()\n",
        "def func5():\n",
        "    return data\n",
        "\n",
        "def func6():\n",
        "    return geo"
      ],
      "execution_count": null,
      "outputs": []
    }
  ]
}
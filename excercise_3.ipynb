{
  "nbformat": 4,
  "nbformat_minor": 0,
  "metadata": {
    "colab": {
      "name": "excercise_3.ipynb",
      "provenance": [],
      "authorship_tag": "ABX9TyMZRDRJ7Pdsaqu299FNzl+R",
      "include_colab_link": true
    },
    "kernelspec": {
      "name": "python3",
      "display_name": "Python 3"
    },
    "language_info": {
      "name": "python"
    }
  },
  "cells": [
    {
      "cell_type": "markdown",
      "metadata": {
        "id": "view-in-github",
        "colab_type": "text"
      },
      "source": [
        "<a href=\"https://colab.research.google.com/github/kwbt-kzk/github-slideshow/blob/master/excercise_3.ipynb\" target=\"_parent\"><img src=\"https://colab.research.google.com/assets/colab-badge.svg\" alt=\"Open In Colab\"/></a>"
      ]
    },
    {
      "cell_type": "code",
      "metadata": {
        "id": "kwVUgf-_xiYz"
      },
      "source": [
        "## Repltの黒い部分にが相変わらず入力できませんでしたので、先生にご提案していただいたこのファイルで提出いたします。\n",
        "## お手数をおかけいたします\n",
        "## GitHubのIDは kwbt-kzk です\n",
        "## 学籍番号は 15719024 です\n",
        "## 氏名は 川端一輝 です"
      ],
      "execution_count": null,
      "outputs": []
    },
    {
      "cell_type": "code",
      "metadata": {
        "id": "xOQKmQac-cz_"
      },
      "source": [
        "##Excercise 3.1\n",
        "\n",
        "##Part 1\n",
        "\n",
        "basename=\"Station\"\n",
        "filenames=[]\n",
        "\n",
        "##Part 2\n",
        "\n",
        "for value in range(21):\n",
        "  filenames.append(basename+''+str(value)+'.txt')\n",
        "\n",
        "print(filenames)"
      ],
      "execution_count": null,
      "outputs": []
    },
    {
      "cell_type": "code",
      "metadata": {
        "id": "5v1zAdBVQKMJ"
      },
      "source": [
        "##Excercise 3.2\n",
        "\n",
        "temperatures = [\n",
        "    -5.4, 1.0, -1.3, -4.8, 3.9, 0.1, -4.4, 4.0, -2.2, -3.9, 4.4, -2.5, -4.6,\n",
        "    5.1, 2.1, -2.4, 1.9, -3.3, -4.8, 1.0, -0.8, -2.8, -0.1, -4.7, -5.6, 2.6,\n",
        "    -2.7, -4.6, 3.4, -0.4, -0.9, 3.1, 2.4, 1.6, 4.2, 3.5, 2.6, 3.1, 2.2, 1.8,\n",
        "    3.3, 1.6, 1.5, 4.7, 4.0, 3.6, 4.9, 4.8, 5.3, 5.6, 4.1, 3.7, 7.6, 6.9, 5.1,\n",
        "    6.4, 3.8, 4.0, 8.6, 4.1, 1.4, 8.9, 3.0, 1.6, 8.5, 4.7, 6.6, 8.1, 4.5, 4.8,\n",
        "    11.3, 4.7, 5.2, 11.5, 6.2, 2.9, 4.3, 2.8, 2.8, 6.3, 2.6, -0.0, 7.3, 3.4,\n",
        "    4.7, 9.3, 6.4, 5.4, 7.6, 5.2\n",
        "]\n",
        "\n",
        "##Part 1\n",
        "\n",
        "cold=[]\n",
        "slippery=[]\n",
        "comfortable=[]\n",
        "warm=[]\n",
        "\n",
        "##Part 2\n",
        "for temperaure in temperatures:\n",
        "  if temperature < -2:\n",
        "    cold.append(temperature);\n",
        "  elif -2 <= temperature < 2:\n",
        "    Slippery.append(temperature)\n",
        "  elif 2 <= temperature < 15:\n",
        "   Comfortable.append(temperature)\n",
        "  elif 15 < temperature:\n",
        "    Warm.append(temperature)\n",
        "\n",
        "\n",
        "##Part 3\n",
        "slippery_times='XXX'\n",
        "Slippery_times=len(slippery)\n",
        "print(\"In April 2013 it was slippery\", slippery_times, \"times.\")\n",
        "warm_times='XXX'\n",
        "cold_times='XXX'\n",
        "cold_times=len(cold)\n",
        "print(\"In April 2013 it was cold\", cold_times, \"times.\")"
      ],
      "execution_count": null,
      "outputs": []
    },
    {
      "cell_type": "code",
      "metadata": {
        "colab": {
          "base_uri": "https://localhost:8080/"
        },
        "id": "APb8D2C6YsTv",
        "outputId": "a7f49196-8c4f-4f2c-c302-e872a3c6eb8f"
      },
      "source": [
        "##Excercise 3.3\n",
        "\n",
        "stations = ['Hanko Russarö', 'Heinola Asemantaus', 'Helsinki Kaisaniemi', \n",
        "            'Helsinki Malmi airfield', 'Hyvinkää Hyvinkäänkylä', 'Joutsa Savenaho', \n",
        "            'Juuka Niemelä', 'Jyväskylä airport', 'Kaarina Yltöinen', 'Kauhava airfield', \n",
        "            'Kemi Kemi-Tornio airport', 'Kotka Rankki', 'Kouvola Anjala', \n",
        "            'Kouvola Utti airport', 'Kuopio Maaninka', 'Kuusamo airport', \n",
        "            'Lieksa Lampela', 'Mustasaari Valassaaret', 'Parainen Utö', 'Pori airport', \n",
        "            'Rovaniemi Apukka', 'Salo Kärkkä', 'Savonlinna Punkaharju Laukansaari', \n",
        "            'Seinäjoki Pelmaa', 'Siikajoki Ruukki', 'Siilinjärvi Kuopio airport', \n",
        "            'Tohmajärvi Kemie', 'Utsjoki Nuorgam', 'Vaala Pelso', 'Vaasa airport', \n",
        "            'Vesanto Sonkari', 'Vieremä Kaarakkala', 'Vihti Maasoja', 'Ylitornio Meltosjärvi']\n",
        "lats = [59.77, 61.2, 60.18, 60.25, 60.6, 61.88, 63.23, 62.4,\n",
        "       60.39, 63.12, 65.78, 60.38, 60.7, 60.9, 63.14, 65.99,\n",
        "       63.32, 63.44, 59.78, 61.47, 66.58, 60.37, 61.8, 62.94,\n",
        "       64.68, 63.01, 62.24, 70.08, 64.501, 63.06, 62.92, 63.84,\n",
        "       60.42, 66.53]\n",
        "lons = [22.95, 26.05, 24.94, 25.05, 24.8, 26.09, 29.23, 25.67, \n",
        "       22.55, 23.04, 24.58, 26.96, 26.81, 26.95, 27.31, 29.23, \n",
        "       30.05, 21.07, 21.37, 21.79, 26.01, 23.11, 29.32, 22.49, \n",
        "       25.09, 27.8, 30.35, 27.9, 26.42, 21.75, 26.42, 27.22, \n",
        "       24.4, 24.65]\n",
        "north_south_cutoff = 64.5\n",
        "east_west_cutoff = 26.3\n",
        "\n",
        "##Part 1\n",
        "north_west=[]\n",
        "north_east=[]\n",
        "south_west=[]\n",
        "south_east=[]\n",
        "print(north_west, south_west)\n",
        "\n",
        "##Part 2\n",
        "n=len(stations)\n",
        "print(\"In the data, there are\", n, \"stations.\")\n",
        "\n",
        "##Part 3\n",
        "##飛ばします\n",
        "\n",
        "##Part 4\n",
        "for number in range(n):\n",
        "  if lats[number] > north_south_cutoff:\n",
        "    if lons[number] > east_west_cutoff:\n",
        "      north_east.append(stations[number])\n",
        "    else:\n",
        "      north_west.append(stations[number])\n",
        "  else:\n",
        "    if lons[number] > east_west_cutoff:\n",
        "      south_east.append(stations[number])\n",
        "    else:\n",
        "      south_west.append(stations[number])\n",
        "\n",
        "\n",
        "# This test print should print out station names in North West\n",
        "# Hint: there should be 4 stations in this class\n",
        "print(\"The names of the Northwest stations are:\\n\", north_west)\n",
        "\n",
        "# This test print should print out station names in North Eest\n",
        "# Hint: there should be 3 stations in this class\n",
        "print(\"The names of the Northeast stations are:\\n\", north_east)\n",
        "\n",
        "\n",
        "# This test print should print out station names in South West\n",
        "# Hint: there should be 16 stations in this class\n",
        "print(\"The names of the Southwest stations are:\\n\", south_west)\n",
        "\n",
        "# This test print should print out station names in South East\n",
        "# Hint: there should be 11 stations in this class\n",
        "print(\"The names of the Southeast stations are:\\n\", south_east)\n",
        "\n",
        "##Part 5\n",
        "\n",
        "## 1.Almost no problem.\n",
        "## 2.I did.\n",
        "\n",
        "##Part 6\n",
        "\n",
        "print(\"Northwest contains{share: .0f} % of all stations.\".format(share=north_west_share))\n",
        "print(\"Northeast contains{share: .0f} % of all stations.\".format(share=north_east_share))\n",
        "print(\"Southwest contains{share: .0f} % of all stations.\".format(share=south_west_share))\n",
        "print(\"Southeast contains{share: .0f} % of all stations.\".format(share=south_east_share))\n"
      ],
      "execution_count": null,
      "outputs": [
        {
          "output_type": "stream",
          "text": [
            "[] []\n"
          ],
          "name": "stdout"
        }
      ]
    }
  ]
}